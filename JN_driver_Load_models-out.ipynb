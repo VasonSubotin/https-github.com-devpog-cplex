{
 "cells": [
  {
   "cell_type": "code",
   "execution_count": 2,
   "metadata": {
    "collapsed": false
   },
   "outputs": [],
   "source": [
    "import pandas as pd\n",
    "import numpy as np\n",
    "import pylab as pl\n",
    "import os \n",
    "import datetime\n",
    "import time\n",
    "import re\n",
    "import math as mt\n",
    "\n",
    "%matplotlib inline\n",
    "from itertools import product\n",
    "from time import sleep\n",
    "from dask import delayed\n",
    "import dask.dataframe as dd\n",
    "import seaborn as sns\n",
    "#import statsmodels from tsa.stattools\n",
    "#import statsmodels.tsa.stattools.acf\n",
    "\n",
    "from statsmodels.tsa.stattools import adfuller\n",
    "from statsmodels.tsa.stattools import pacf\n",
    "\n",
    "from sklearn.datasets import load_iris\n",
    "from sklearn.linear_model import LinearRegression\n",
    "from sklearn.neighbors import KNeighborsClassifier\n",
    "\n",
    "import matplotlib.pyplot as plt\n",
    "# Though the following import is not directly being used, it is required\n",
    "# for 3D projection to work\n",
    "from mpl_toolkits.mplot3d import Axes3D\n",
    "\n",
    "from sklearn.datasets import load_iris\n",
    "from sklearn.neighbors import KNeighborsClassifier\n",
    "\n",
    "#from sklearn import KNeighborsClassifier\n",
    "\n",
    "from sklearn.cluster import KMeans\n",
    "from sklearn import datasets\n",
    "os.chdir(r'E:\\Work\\RStudio\\WD\\V5GJBsupport\\JuceNet')\n",
    "\n",
    "import pytz\n",
    "\n",
    "\n"
   ]
  },
  {
   "cell_type": "code",
   "execution_count": 3,
   "metadata": {
    "collapsed": false
   },
   "outputs": [],
   "source": [
    "\n",
    "class JNmodel:\n",
    "    \n",
    "#class analysis(JNmodel):\n",
    "    \n",
    "    def preliminary_analysis(self, df):\n",
    "        result = df.EventString.value_counts()\n",
    "        shape = df.shape\n",
    "        dtype = df.dtypes\n",
    "        print('event count: \\n', result, '\\n')\n",
    "        print('df size is:  \\n', shape, '\\n')\n",
    "        print('types of the columns are:  \\n',dtype, '\\n')\n",
    "        \n",
    "    def All_possible_patterns_count(self, df):\n",
    "        unitid_event_string = df.loc[:,['UnitID', 'EventString']].copy()\n",
    "        #one = df.loc[:,'EventString'].copy()\n",
    "        unitid_event_string['Shifted_EventString'] = df.EventString.shift(periods = -1)\n",
    "        count_different_patterns = unitid_event_string.groupby(['UnitID','EventString','Shifted_EventString']).agg({'Shifted_EventString':'count'})\n",
    "        return(count_different_patterns)\n",
    "        \n",
    "\n",
    "    def bad_data_analysis(self, df):\n",
    "        # Bed data row removal:\n",
    "        print('the bad data will look like this: \\n',  df.loc[df.PartitionKey != df.UnitID,:].head(n=2))\n",
    "        value1 = df.loc[df['RowKey'].str.contains('Char', regex=True) == True,'RowKey'].shape[0]\n",
    "        value2 = len(df.loc[(df.PartitionKey != df.UnitID) & (df['RowKey'].str.match('Charg') == True),:])\n",
    "        value3 = len(df.loc[(df.PartitionKey != df.UnitID) & (df['RowKey'].str.match('Off') == True),:])\n",
    "        value4 = len(df.loc[(df.PartitionKey != df.UnitID) & (df['RowKey'].str.match('On') == True),:])\n",
    "        value5 = len(df.loc[(df.PartitionKey != df.UnitID) & (df['RowKey'].str.match('Plug') == True),:])\n",
    "        total  = sum([value2,value3,value4,value5])\n",
    "        value6 = len(df.loc[(df.PartitionKey != df.UnitID),:])\n",
    "        final_table = pd.DataFrame([value1, value2, value3, value4, value5,total, value6] , index = ['Row_Key_Char','Charg','Off','On','Plug','sum','totlal' ])\n",
    "        print(final_table)\n",
    "        \n",
    " \n",
    "        dft = dft.loc[dft.state == 'CA',:].copy()\n",
    "        return(dft)\n",
    "    \n",
    "\n",
    "\n",
    "class tools(JNmodel):\n",
    "    def __init__(self, filename):\n",
    "        #self.path = path\n",
    "        self.filename = filename\n",
    "        #os.chdir('r\\''+self.path)\n",
    "        \n",
    "# used with  my_read_csv   \n",
    "    def make_serie_as_datetimein_PST_time(self, serie):\n",
    "        serie = pd.to_datetime(serie)\n",
    "        serie = serie.tz_localize('UTC').tz_convert('US/Pacific-New')\n",
    "        return(serie)\n",
    "    \n",
    "    def my_read_csv(self, serie):\n",
    "        #print(self.pp())\n",
    "        resulting_csv = pd.read_csv(self.filename,  date_parser = self.make_serie_as_datetimein_PST_time, parse_dates = ['index'] )\n",
    "\n",
    "        return(resulting_csv)  \n",
    "    \n",
    "# substitute all date for one day 1/1/2018, keeping time valid \n",
    "    def make_one_date_date(self,dd,columname):\n",
    "        df= dd.copy()\n",
    "        #temp  = df.loc[(df.EventString == 'PlugIn'), ['Time','UnitID']].copy()\n",
    "        temp = pd.to_datetime('1/1/2018' + ' ' + df[columname].dt.time.astype('str'))\n",
    "        df['One_day'] = temp\n",
    "        return(df)\n",
    "\n",
    "# introduce catecorical variable for mentioned string column   \n",
    "    def make_df_faster(self, dd, categorial_string_list):\n",
    "        df = dd.copy()\n",
    "        print('\\nOriginal Memory usage:\\n', df.memory_usage(deep= True))\n",
    "        df[categorial_string_list] = df[categorial_string_list].astype('category')\n",
    "        print('\\nMemory usage after categorising all string columns:\\n', df.memory_usage(deep= True))\n",
    "        return(df)\n",
    "#     \n",
    "    def end_and_start_time_differance_delta(self, dd, EventString, end_time, start_time, time_column):\n",
    "        df = dd.loc[(dd[EventString] == end_time) | (dd[EventString] == start_time), [EventString,time_column]].copy()\n",
    "        df['Shifted_Time'] = df[time_column].shift(periods = -1)\n",
    "        df['Shifted_EventString'] = df[EventString].shift(periods = -1)\n",
    "        df.drop(df.index[-1], axis =0, inplace =True)\n",
    "        df = df.loc[df[EventString ]  == start_time ,:].copy() \n",
    "        df['delta'] = (df.Shifted_Time - df[time_column])\n",
    "        df['delta'] = df.delta.dt.seconds/3600\n",
    "        \n",
    "        return(df)\n",
    "    \n",
    "    def charing_time() :\n",
    "        pass\n",
    "        \n",
    "class JNLoadModel(JNmodel):\n",
    "    \n",
    "    def create_range_whith_realstart_end(self,start, end, freq):\n",
    "        start_rounded = start.ceil('5min')\n",
    "        end_rounded = end.floor('5min')\n",
    "\n",
    "        dft = pd.date_range(start_rounded, end_rounded , freq=freq)#.floor('5min')\n",
    "\n",
    "        dft = dft.insert(0, pd.Timestamp(start.round('s'), tz = 'US/Pacific-New'))\n",
    "        dft = dft.insert(len(dft)+1, pd.Timestamp(end.round('s'), tz = 'US/Pacific-New'))\n",
    "        dft = dft.sort_values()\n",
    "        return(dft)\n",
    "\n",
    "    def create_range_whith_rounded_end(self,start, end, freq):\n",
    "        start_rounded = start.ceil('5min')\n",
    "        end_rounded = end.floor('5min')\n",
    "        delta1 = start_rounded - start\n",
    "        delta2  =end -end_rounded\n",
    "        dft = pd.date_range(start_rounded, end_rounded , freq=freq)#.floor('5min')\n",
    "        dft = dft.sort_values()\n",
    "        return(dft, delta1, delta2)\n",
    "\n",
    "    def create_solid_dataframe(temp):\n",
    "        seri = create_range_whith_realstart_end(temp.Time[0],temp.Shifted_Time[0],'5min')\n",
    "        value = temp.Power_Value[temp.index[0]]\n",
    "        seri = seri.sort_values()\n",
    "\n",
    "        result = pd.DataFrame({'Power': value, 'UnitID':temp.UnitID[temp.index[0]], 'Status': 'ChargingStart'}, index = seri)\n",
    "        result.reset_index(inplace = True)\n",
    "        plug_in_out['Power'] = 0\n",
    "        plug_in_out.columns = ['index','UnitID','Status','Power']\n",
    "\n",
    "        plug_in_out.iloc[0,0] =  plugIn_index[plugIn_index.index[0]] - pd.Timedelta('1 second')\n",
    "\n",
    "        frames = [result, plug_in_out]\n",
    "\n",
    "        result = pd.concat(frames)\n",
    "        result.set_index('index',inplace = True)\n",
    "\n",
    "        result = result.sort_index()\n",
    "        return(result)\n",
    "\n",
    "    def par(dd):\n",
    "        df = dd.copy()\n",
    "        df['Time'] = df.Time.dt.round('s')\n",
    "        grp  = df.groupby('snum',group_keys=True)\n",
    "\n",
    "        ft = pd.DataFrame()\n",
    "        for k, v in grp:\n",
    "                temp = grp.get_group(k).sort_values('Time', ascending=True)\n",
    "\n",
    "                plug_in_out = temp.loc[(temp.EventString == 'PlugIn') | (temp.EventString == 'PlugOut'),['Time','UnitID','EventString']].copy()\n",
    "                plugIn_index = temp.loc[(temp.EventString == 'PlugIn'),'Time'].copy()\n",
    "                plugOut_index = temp.loc[(temp.EventString == 'PlugOut'),'Time'].copy()\n",
    "\n",
    "                temp = temp.loc[(temp.EventString == 'ChargingStart') | (temp.EventString == 'ChargingStop'), ['Time','snum','EventString','EventEnergy','UnitID']].copy()   \n",
    "                #print(temp)\n",
    "                temp['Shifted_Time'] = temp.Time.shift(periods = -1)\n",
    "\n",
    "                temp['Shifted_EventString'] = temp.EventString.shift(periods = -1)\n",
    "\n",
    "                temp['Shifted_EventEnergy'] = temp.EventEnergy.shift(periods = -1)\n",
    "                temp.drop(temp.index[-1], axis =0, inplace =True)\n",
    "\n",
    "                temp = temp.loc[temp.EventString   == 'ChargingStart',:].copy() \n",
    "\n",
    "                temp['delta'] = (temp.Shifted_Time - temp.Time)\n",
    "                temp['delta'] = temp.delta.dt.seconds/3600\n",
    "                temp['Shifted_EventEnergy'] = temp.Shifted_EventEnergy/1000\n",
    "\n",
    "                temp['Power_Value'] = temp.Shifted_EventEnergy/temp.delta\n",
    "                print(temp)\n",
    "                df_result = pd.DataFrame()\n",
    "                fr = pd.DataFrame()\n",
    "                for row in temp.iterrows():\n",
    "                    seri,delta1,delta2 = create_range_whith_rounded_end(self,row[1].Time,row[1].Shifted_Time,'5min')\n",
    "                    #seri, delta1,delta2 = create_range_whith_realstart_end(row[1].Time,row[1].Shifted_Time,'5min')\n",
    "\n",
    "                    value = row[1].Power_Value\n",
    "\n",
    "                    seri = seri.sort_values()\n",
    "\n",
    "                    result = pd.DataFrame({'Power': value, 'UnitID':row[1].UnitID, 'Status': 'ChargingStart'}, index = seri)\n",
    "                    result.reset_index(inplace = True)\n",
    "\n",
    "                    df_result = pd.concat([df_result, result])\n",
    "                plug_in_out['Power'] = 0\n",
    "                plug_in_out.columns = ['index','UnitID','Status','Power']\n",
    "\n",
    "                plug_in_out.iloc[0,0] =  plugIn_index[plugIn_index.index[0]] - pd.Timedelta('1 second')\n",
    "\n",
    "                result_fr = pd.concat([df_result, plug_in_out])\n",
    "\n",
    "                result_fr.set_index('index',inplace = True)\n",
    "\n",
    "                result_fr = result_fr.sort_index()\n",
    "                ft = pd.concat([ft, result_fr])\n",
    "                #k =k+1\n",
    "                #print(k)\n",
    "        return(ft)\n",
    "# the result of this run is load_model_3months_better.csv having all\n",
    "# load data for every 5 min interval during 24 hours for every Unit\n",
    "\n",
    "\n",
    "    \n",
    "class Cleaningdata(JNmodel):\n",
    "    \n",
    "    \n",
    "    def get_rid_of_emulators(self, df):\n",
    "        df = df.iloc[:,1:11]\n",
    "        # Getting rid off emulators starting with 3737\n",
    "        amount_of_unique_emulators = len(df.loc[df['UnitID'].str.match('3737') == True,'UnitID'].unique())\n",
    "        print(\"amount of unique emulators is: \", amount_of_unique_emulators )\n",
    "        df = df.loc[df.UnitID.str.match('3737') != True, :]\n",
    "        print('amount of unique rows is:' , df.shape)\n",
    "        return(df)\n",
    "    \n",
    "    \n",
    "    def bad_data_removal(self, df):\n",
    "        # Bed data row removal:\n",
    "        df = df.loc[(df.PartitionKey == df.UnitID),:].copy()\n",
    "        #df = self.get_rid_of_emulators(self, df)\n",
    "        print(df.shape)\n",
    "        return(df)\n",
    "    \n",
    "   \n",
    "    def adding_extra_columns(self, df):\n",
    "        # Adding time, time stamp\n",
    "        df['Time'] = pd.to_datetime(df.Timestamp)\n",
    "        df['Time'] = df.Time.dt.tz_localize('UTC').dt.tz_convert('US/Pacific-New')   \n",
    "        df['dt_ts'] = df.loc[:,'Time'].astype('int64')//1e9\n",
    "        df = df.iloc[:,1:12]\n",
    "        # Assinging categorical variable for Event string to make plots\n",
    "        df['event_bolen']= df.EventString.map({'Offline':0, 'Online':1, 'PlugIn':2, 'ChargingStart':3, 'ChargingStop':4,\n",
    "       'PlugOut':5})\n",
    "        df['snum'] = 0\n",
    "        df['UnitID'] = df['UnitID'].astype(str)\n",
    "        df['WeekDay'] =  df.Time.dt.weekday\n",
    "        return(df)\n",
    "    \n",
    "    \n",
    "    def CA_Unit_id(self, unit_zip, zip_state, df):\n",
    "        zip_state =zip_state.loc[:,:].copy()\n",
    "        unit_zip =unit_zip.loc[:5186,:].copy()\n",
    "\n",
    "        zip_state['zip'] = zip_state.zip.astype('str')\n",
    "        unit_zip.set_index('ZipCode', inplace =True, drop= False)\n",
    "\n",
    "        gg  = pd.merge(unit_zip, zip_state, how = 'inner', left_on = 'ZipCode', right_on = 'zip' )\n",
    "        result = gg.drop_duplicates(keep='first')\n",
    "        dft = pd.merge(df, result.loc[:,['UnitID','state']].copy(), how = 'left', on = 'UnitID' )\n",
    "        return (dft.loc[dft.state =='CA',:].copy())\n",
    "\n",
    "    def data_cleaning(self, unit_zip, zip_state, df):\n",
    "        df  = self.get_rid_of_emulators(self, df)\n",
    "        df =  self.bad_data_removal(self, df)\n",
    "        df  = self.adding_extra_columns(self, df)\n",
    "\n",
    "        #df  = self.CA_Unit_id(self, unit_zip, zip_state, df)\n",
    "        #print(df)\n",
    "        return(df)\n",
    "    \n",
    "class creating_final_table(JNmodel):\n",
    "\n",
    "# Finding the rows based on right charging patterns        \n",
    "    def find_row_corresponding_to_partern(self, dd, colname,snum):\n",
    "        df =dd.copy()\n",
    "        partert_to_match_to = r\"(2(?:34){1,12}5)\" # ?: ignores adding the group; r\"(2(?:343434343434){1,12}5)\"\n",
    "        resulting_df = pd.DataFrame()\n",
    "        df.reset_index(inplace=True)\n",
    "        string_series = df.loc[:,colname].astype('str').str.cat(sep='')\n",
    "        patern_position = []\n",
    "\n",
    "        for m in re.finditer(partert_to_match_to, string_series):\n",
    "            temp = np.arange(m.start(),m.end())\n",
    "            snum = snum +1\n",
    "            df.loc[temp,'snum'] = snum\n",
    "            frames = [resulting_df,df.loc[temp]]\n",
    "            #print(snum,df.loc[temp])\n",
    "            resulting_df = pd.concat(frames)\n",
    "            #print(resulting_df)\n",
    "        return(resulting_df,snum)\n",
    "\n",
    "    def get_rows_for_resource_based_on_patern(self, df,column,snum = 0):\n",
    "        frames = []\n",
    "        result = pd.DataFrame()\n",
    "        grp = df.groupby(['UnitID'],group_keys=True) \n",
    "        group_revenue=0\n",
    "        for k,v in grp:\n",
    "            temp = grp.get_group(k).sort_values('Time', ascending=True)\n",
    "            temp_df, snum = self.find_row_corresponding_to_partern(self,temp, column,snum)\n",
    "            #print(temp_df)\n",
    "            #print(temp_df['snum']= snum)\n",
    "            frames = [result,temp_df]\n",
    "            #print(temp_df)\n",
    "            result = pd.concat(frames)\n",
    "            \n",
    "        #print('result',result )\n",
    "        result.set_index('index', inplace=True)\n",
    "        #print('print', result)\n",
    "        return(result)\n",
    "\n",
    "    \n",
    "class smart_data_cleaning(JNmodel):    \n",
    "                                        # Detailed analytics with data removal. \n",
    "        \n",
    "# Delete session with large power, more that 10kw.\n",
    "\n",
    "    def corrected_power_value(self, df):\n",
    "        #df.set_index('index', inplace = True)\n",
    "        # get rid of sessions with power more than 10Kw\n",
    "        group_session = df.loc[df.EventString == 'ChargingStop', ['UnitID', 'EventString','snum','EventDuration','EventEnergy','power']].groupby(['snum']).agg({'EventDuration' :'sum','EventEnergy':'sum'})\n",
    "        group_session['result'] = (group_session.EventEnergy/1000)/(group_session.EventDuration/3600)\n",
    "        gg = group_session.loc[group_session.result > 10,:].index.tolist()\n",
    "        return(df.loc[-df.snum.isin(gg),:].copy())\n",
    "    \n",
    "# getting rid of sessions where charign time is not equal to sum of event duration:\n",
    "   \n",
    "    def total_charing_time_equal_of_charingStopEventduartion(self, df):\n",
    "        EventDuration = df.loc[df.EventString =='ChargingStop', :].groupby(['snum']).agg({'EventDuration':'sum'})\n",
    "        totlal_ChargingTime = df.loc[df.EventString =='ChargingStop', :].groupby(['snum']).agg({'ChargingTime':'max'})\n",
    "  \n",
    "        duration_sum_check = pd.DataFrame({'EventDuration':EventDuration.EventDuration,'ChargingTime':totlal_ChargingTime.ChargingTime })\n",
    "        print(duration_sum_check.head(n=10))\n",
    "\n",
    "        E1 = duration_sum_check.loc[duration_sum_check.EventDuration == duration_sum_check.ChargingTime,:]\n",
    "        E2 = duration_sum_check.loc[duration_sum_check.EventDuration != duration_sum_check.ChargingTime,:]\n",
    "\n",
    "        df_with_correct_sessions = df.loc[df.snum.isin(E1.index.get_values()) == True,:].copy()\n",
    "        df_with_wrong_sessions = df.loc[df.snum.isin(E2.index.get_values()) == True,:].copy()\n",
    "        return(E2.index.get_values(), df_with_correct_sessions, df_with_wrong_sessions)\n",
    "    \n",
    "\n",
    "# getting rid of sessions with abnormal enery values.\n",
    "    \n",
    "    def total_energy_equal_to_sum_of_charingStopEnergy(self, df):\n",
    "        chagrinstop = df.loc[df.EventString =='ChargingStop', :].groupby(['snum']).agg({'EventEnergy':'sum'})\n",
    "        totlal_energy = df.loc[df.EventString =='ChargingStop', :].groupby(['snum']).agg({'TotalEnergy':'max'})\n",
    "        print(chagrinstop.head(n=5),'\\n\\n',totlal_energy.head(n=5))\n",
    "        energy_sum_check = pd.DataFrame({'charing_stop':chagrinstop.EventEnergy,'total_energy':totlal_energy.TotalEnergy })\n",
    "        E1 = energy_sum_check.loc[energy_sum_check.charing_stop==energy_sum_check.total_energy,:]\n",
    "        E2 = energy_sum_check.loc[energy_sum_check.charing_stop!=energy_sum_check.total_energy,:]\n",
    "        print('number of sesions with total energy equal to sum of charing energy:\\n', E1.shape)\n",
    "        print('number of sesions with total energy not equal to sum of charing energy:\\n', E2.shape)\n",
    "\n",
    "        df_with_correct_sessions = df.loc[df.snum.isin(E1.index.get_values()) == True,:].copy()\n",
    "        df_with_wrong_sessions = df.loc[df.snum.isin(E2.index.get_values()) == True,:].copy()\n",
    "        #new_df = df.loc[-df.snum.isna(E2.index)]\n",
    "        return(energy_sum_check.head(n=5),E2.index.get_values() ,df_with_correct_sessions,df_with_wrong_sessions)\n",
    "\n",
    "# Getting rid of sessions where Event duation for plug_out is equal delta df.time\n",
    "\n",
    "    def total_time_equal_to_TotalDration(self, df):\n",
    "        print('\\n\\n\\n AAAAAAAAAAAAAA','\\n\\n\\n' ,df.head(n=2))\n",
    "        #df.reset_index(inplace=True)\n",
    "        df.set_index('snum', inplace=True)\n",
    "        PluginTime = df.loc[df.EventString == 'PlugIn', 'Time'].copy()\n",
    "        PlugOutTime = df.loc[df.EventString == 'PlugOut', 'Time'].copy()\n",
    "        print('\\n\\n\\n BBBBBBB','\\n\\n\\n' ,df.head(n=2))\n",
    "        \n",
    "        #print(PluginTime.head(n=2),PluginTime.dtypes)\n",
    "        #print(PluginTime.head(n=2),  PlugOutTime.dtypes)\n",
    "\n",
    "        delta_df = pd.concat([PluginTime,PlugOutTime], axis = 1)\n",
    "        delta_df.columns = ['PluginTime','PlugOutTime']\n",
    "        \n",
    "        #print(delta_df.head(n=3))\n",
    "        \n",
    "        delta_df['delta'] = delta_df.PlugOutTime - delta_df.PluginTime\n",
    "        delta_df['delta'] = delta_df.delta.dt.seconds \n",
    "\n",
    "        # Plugged sessions duration\n",
    "        Event_Duration_plug_in = df.loc[df.EventString == 'PlugOut', 'EventDuration'].copy()\n",
    "\n",
    "        delta_df = pd.concat([delta_df, Event_Duration_plug_in ], axis=1)\n",
    "        df.reset_index(inplace=True)\n",
    "        df.set_index('index', inplace=True)\n",
    "\n",
    "        E1  = delta_df.loc[(delta_df.delta - delta_df.EventDuration) < 1,:].copy()\n",
    "        E2  = delta_df.loc[(delta_df.delta - delta_df.EventDuration) > 1,:].copy()\n",
    "        \n",
    "        df_with_correct_timing = df.loc[df.snum.isin(E1.index.get_values()) == True,:].copy()\n",
    "        df_with_wrong_timing = df.loc[df.snum.isin(E2.index.get_values()) == True,:].copy()\n",
    "        return(df_with_correct_timing, df_with_correct_timing.shape )\n",
    "        \n",
    "    def more_data_removal(self, df):\n",
    "        df = self.corrected_power_value(self, df)\n",
    "        index, correct_df, wrong_df = self.total_charing_time_equal_of_charingStopEventduartion(self, df)\n",
    "        energy_sum_check, index, correct_df, wrong_df = self.total_energy_equal_to_sum_of_charingStopEnergy(self, correct_df)\n",
    "        correct_df, correct_df_shape = self.total_time_equal_to_TotalDration(self, correct_df)\n",
    "        \n",
    "       \n",
    "        return(correct_df)\n",
    "    \n",
    "    \n",
    "class JN_model_analytics:\n",
    "    \n",
    "    def make_one_date_date(self,series):\n",
    "        #temp  = df.loc[(df.EventString == 'PlugIn'), ['Time','UnitID']].copy()\n",
    "        temp = pd.to_datetime('1/1/2018' + ' ' + series.dt.time.astype('str'))\n",
    "        return(temp)\n",
    "        \n",
    "    \n",
    "    def plug_in_out_plot(self, df):\n",
    "        temp  = df.loc[(df.EventString == 'PlugIn'), ['Time','UnitID']].copy()\n",
    "        temp['day_index'] = pd.to_datetime('1/1/2018' + ' ' + df.Time.dt.time.astype('str'))\n",
    "        print(temp.shape)\n",
    "        \n",
    "        temp1  = df.loc[(df.EventString == 'PlugOut'), ['Time','UnitID']].copy()\n",
    "        temp1['day_index'] = pd.to_datetime('1/1/2018' + ' ' + df.Time.dt.time.astype('str'))\n",
    "        print(temp1.shape)\n",
    "        \n",
    "        PlugIn =temp.day_index\n",
    "        PlugOut = temp1.day_index\n",
    "        \n",
    "        aa  =  pd.to_timedelta(a).astype('timedelta64[s]')\n",
    "        bb  = pd.to_timedelta(b).astype('timedelta64[s]')\n",
    "        plt.figure(figsize=(15,15))\n",
    "\n",
    "        plt.xlabel('PlugIn', fontsize=18)\n",
    "        plt.ylabel('PlugOut', fontsize=16)\n",
    "        plt.hist2d(aa, bb, (96,96), cmap=plt.cm.jet)\n",
    "        plt.colorbar()\n",
    "\n",
    "\n",
    "        return(PlugIn,PlugOut)\n",
    "\n",
    "\n",
    "    def plug_in_distribution(self, df):\n",
    "        \n",
    "        temp  = df.loc[(df.EventString == 'PlugIn'), ['Time','UnitID','WeekDay']].copy()\n",
    "        temp['day_index'] = pd.to_datetime('1/1/2018' + ' ' + df.Time.dt.time.astype('str'))\n",
    "        temp['day_index_norm'] = temp.day_index - temp.day_index.dt.normalize()\n",
    "        temp.reset_index(inplace =True)\n",
    "        temp.set_index('day_index', inplace =True)\n",
    "        rr = temp.UnitID.resample('10t').count()\n",
    "        rr_sum = sum(rr)\n",
    "        rr2 = rr/rr_sum\n",
    "        print( rr2.resample('20t').sum().plot())\n",
    "        return(rr2)\n",
    "        \n",
    "    def plug_out_distribution(self, df):\n",
    "        temp  = df.loc[(df.EventString == 'PlugOut'), ['Time','UnitID','WeekDay']].copy()\n",
    "        temp['day_index'] = pd.to_datetime('1/1/2018' + ' ' + df.Time.dt.time.astype('str'))\n",
    "        temp['day_index_norm'] = temp.day_index - temp.day_index.dt.normalize()\n",
    "        temp.reset_index(inplace =True)\n",
    "        temp.set_index('day_index', inplace =True)\n",
    "        rr = temp.UnitID.resample('10t').count()\n",
    "        rr_sum = sum(rr)\n",
    "        rr2 = rr/rr_sum\n",
    "        print( rr2.resample('20t').sum().plot())#.count().plot())\n",
    "        return(rr2)\n",
    "\n",
    "    def energy_pre_seesion_distribution(self, dd):\n",
    "        df = dd.loc[:,:].copy()  \n",
    "        df['EventEnergy'] = df.EventEnergy/1000\n",
    "        #df = df.loc[(df.EventEnergy > 0) & (df.EventEnergy < 60) , :].copy()\n",
    "        group = df.groupby(['UnitID','snum']).agg({'EventEnergy':'sum' })\n",
    "        group = group.loc[(group.EventEnergy >0) & (group.EventEnergy < 60), :].copy()\n",
    "        print ('\\n mean:',np.mean(group.EventEnergy), '\\n std:',np.std(group.EventEnergy))\n",
    "       \n",
    "        n, bins, patches = plt.hist(group.EventEnergy, 100, normed=1, facecolor='green', alpha=0.75)\n",
    "        #print(group)\n",
    "        #a = np.hstack((rng.normal(size=1000),             rng.normal(loc=5, scale=2, size=1000)))\n",
    "        #print(group.EventEnergy.plot.hist(bins=2000), range = (0,100))\n",
    "        return(pd.Series(n), pd.Series(bins) )\n",
    "    \n",
    "    def plugged_time_pre_seesion_distribution(df):\n",
    "        PlugIn = df.loc[(df.EventString == 'PlugIn'), ['snum','UnitID','Time']].copy()\n",
    "        PlugOut  = df.loc[(df.EventString == 'PlugOut'), ['snum','UnitID','Time']].copy()\n",
    "        PlugIn.set_index('snum', inplace = True )\n",
    "        PlugOut.set_index('snum', inplace = True )\n",
    "        \n",
    "        result = PlugIn\n",
    "        result \n",
    "        result['PlugOut'] =  PlugOut.Time\n",
    "        result['Delta']  =  (result.PlugOut - result.Time)\n",
    "        result['Delta'] = result.Delta.dt.seconds/3600\n",
    "        \n",
    "        n, bins, patches = plt.hist(result.Delta, 100, normed=1, facecolor='green', alpha=0.75)\n",
    "                \n",
    "        return(pd.Series(n), pd.Series(bins) )\n",
    "             \n",
    "    def plug_in_time(self, df):\n",
    "        temp  = df.loc[(df.EventString == 'PlugIn'), ['Time','UnitID']].copy()\n",
    "        temp['day_index'] = pd.to_datetime('1/1/2018' + ' ' + df.Time.dt.time.astype('str'))\n",
    "        temp['day_index_norm'] = temp.day_index - temp.day_index.dt.normalize()\n",
    " \n",
    "        temp.reset_index(inplace =True)\n",
    "        temp.set_index('UnitID', inplace =True)  \n",
    "        groups = temp.loc[:,'day_index_norm'].groupby(level = 0)\n",
    "\n",
    "        time_diff = groups.apply(np.mean)\n",
    "        time_diff = pd.to_datetime('1/1/2018') + time_diff\n",
    "        return(time_diff)\n",
    "\n",
    "    def plug_out_time(self, df):\n",
    "        temp  = df.loc[(df.EventString == 'PlugOut'), ['Time','UnitID']].copy()\n",
    "        temp['day_index'] = pd.to_datetime('1/1/2018' + ' ' + df.Time.dt.time.astype('str'))\n",
    "        temp['day_index_norm'] = temp.day_index - temp.day_index.dt.normalize()\n",
    "        #print(temp.head(n=10))\n",
    "        temp.reset_index(inplace =True)\n",
    "        temp.set_index('UnitID', inplace =True)  \n",
    "        groups = temp.loc[:,'day_index_norm'].groupby(level = 0)\n",
    "\n",
    "        time_diff = groups.apply(np.mean)\n",
    "        time_diff = pd.to_datetime('1/1/2018') + time_diff\n",
    "        return(time_diff)\n",
    "    \n",
    "    \n",
    "    def energy_per_JB(self, dd):\n",
    "        \n",
    "        df = dd.loc[:,:].copy()  \n",
    "        df['EventEnergy'] = df.EventEnergy/1000\n",
    "        group = df.groupby(['UnitID','snum']).agg({'EventEnergy':'sum' })\n",
    "        energy_mean  = group.groupby(level=0).mean()\n",
    "        energy_std  = group.groupby(level=0).std()\n",
    "        return(energy_mean, energy_std)\n",
    "    \n",
    "    def input_for_brain(self, df):\n",
    "  \n",
    "        nn = self.plug_in_time(self, df)\n",
    "        out = self.plug_out_time(self, df)\n",
    "        energy_shit, energy_std = self.energy_per_JB(self, df)\n",
    "        \n",
    "        result = pd.concat([nn,out ,energy_shit.EventEnergy, energy_std.EventEnergy] , axis =1)\n",
    "        result.columns=['PlugIn','PlugOut','Energy, kWH' ,'Energy, STD']\n",
    "        result['Delta, kWh'] = result.PlugOut - result.PlugIn\n",
    "        result['Delta, kWh'] = result.delta.dt.seconds/3600\n",
    "        return(result)\n",
    "    \n",
    "    \n",
    "    def knn(self, df):\n",
    "        #prepare data set \n",
    "        return(2)\n",
    "        \n",
    "# distributions: \n",
    "\n",
    "\n",
    "         \n",
    "# analitics on clean table\n",
    "jnm = JNmodel\n",
    "gugu = Cleaningdata\n",
    "cft= creating_final_table\n",
    "sdc = smart_data_cleaning\n",
    "anl = JN_model_analytics\n",
    "jlm = JNLoadModel\n",
    "tls = tools('load_model_3months_better.csv' )\n",
    "  "
   ]
  },
  {
   "cell_type": "code",
   "execution_count": 27,
   "metadata": {
    "collapsed": false
   },
   "outputs": [],
   "source": [
    "#fff  = cft.get_rows_for_resource_based_on_patern(cft, ff, 'event_bolen',0)"
   ]
  },
  {
   "cell_type": "code",
   "execution_count": 370,
   "metadata": {
    "collapsed": true
   },
   "outputs": [
    {
     "name": "stdout",
     "output_type": "stream",
     "text": [
      "\n",
      "Original Memory usage:\n",
      " Index             49841528\n",
      "RowKey           566947381\n",
      "Timestamp        504645471\n",
      "UnitID           511951608\n",
      "EventString      408133062\n",
      "EventDuration     49841528\n",
      "EventEnergy       49841528\n",
      "ChargingTime      49841528\n",
      "TotalEnergy       49841528\n",
      "Duration          49841528\n",
      "Time              49841528\n",
      "dt_ts             49841528\n",
      "event_bolen       49841528\n",
      "snum              49841528\n",
      "WeekDay           49841528\n",
      "dtype: int64\n",
      "\n",
      "Memory usage after categorising all string columns:\n",
      " Index             49841528\n",
      "RowKey           566947381\n",
      "Timestamp        504645471\n",
      "UnitID            12964809\n",
      "EventString      408133062\n",
      "EventDuration     49841528\n",
      "EventEnergy       49841528\n",
      "ChargingTime      49841528\n",
      "TotalEnergy       49841528\n",
      "Duration          49841528\n",
      "Time              49841528\n",
      "dt_ts             49841528\n",
      "event_bolen       49841528\n",
      "snum              49841528\n",
      "WeekDay           49841528\n",
      "dtype: int64\n",
      "\n",
      "Original Memory usage:\n",
      " Index             49841528\n",
      "RowKey           566947381\n",
      "Timestamp        504645471\n",
      "UnitID            12964809\n",
      "EventString      408133062\n",
      "EventDuration     49841528\n",
      "EventEnergy       49841528\n",
      "ChargingTime      49841528\n",
      "TotalEnergy       49841528\n",
      "Duration          49841528\n",
      "Time              49841528\n",
      "dt_ts             49841528\n",
      "event_bolen       49841528\n",
      "snum              49841528\n",
      "WeekDay           49841528\n",
      "dtype: int64\n",
      "\n",
      "Memory usage after categorising all string columns:\n",
      " Index             49841528\n",
      "RowKey           566947381\n",
      "Timestamp        504645471\n",
      "UnitID            12964809\n",
      "EventString        6230584\n",
      "EventDuration     49841528\n",
      "EventEnergy       49841528\n",
      "ChargingTime      49841528\n",
      "TotalEnergy       49841528\n",
      "Duration          49841528\n",
      "Time              49841528\n",
      "dt_ts             49841528\n",
      "event_bolen       49841528\n",
      "snum              49841528\n",
      "WeekDay           49841528\n",
      "dtype: int64\n"
     ]
    }
   ],
   "source": [
    "ff = tools.make_df_faster(tls,ff, 'UnitID')\n",
    "ff = tools.make_df_faster(tls,ff, 'EventString')"
   ]
  },
  {
   "cell_type": "code",
   "execution_count": 8,
   "metadata": {
    "collapsed": false
   },
   "outputs": [],
   "source": [
    "v = tls.my_read_csv( 'index' ) \n"
   ]
  },
  {
   "cell_type": "code",
   "execution_count": 376,
   "metadata": {
    "collapsed": false
   },
   "outputs": [
    {
     "data": {
      "text/plain": [
       "5169"
      ]
     },
     "execution_count": 376,
     "metadata": {},
     "output_type": "execute_result"
    }
   ],
   "source": [
    "len(fff.UnitID.unique())"
   ]
  },
  {
   "cell_type": "code",
   "execution_count": 372,
   "metadata": {
    "collapsed": true
   },
   "outputs": [],
   "source": [
    "fff.to_csv('Juice_net_clean_Data_USA.csv')"
   ]
  },
  {
   "cell_type": "code",
   "execution_count": 323,
   "metadata": {
    "collapsed": false
   },
   "outputs": [
    {
     "name": "stdout",
     "output_type": "stream",
     "text": [
      "     Status                     index\n",
      "0    PlugIn 2017-03-03 14:47:15-08:00\n",
      "39  PlugOut 2017-03-03 18:24:16-08:00\n"
     ]
    }
   ],
   "source": [
    "pluged_time = tools.end_and_start_time_differance_delta(tls, vv,'Status','PlugOut', 'PlugIn', 'index')"
   ]
  },
  {
   "cell_type": "code",
   "execution_count": 332,
   "metadata": {
    "collapsed": false
   },
   "outputs": [],
   "source": [
    "#n, bins, patches = plt.hist(pluged_time.delta, 400, normed=1, facecolor='green', alpha=0.75)\n",
    "      "
   ]
  },
  {
   "cell_type": "code",
   "execution_count": 275,
   "metadata": {
    "collapsed": true
   },
   "outputs": [],
   "source": [
    "#df=pd.read_csv(\"dfl.csv\")\n",
    "#unit_zip = pd.pandas.read_excel(\"unit_zip.xlsx\", sheetname = 'unit_zip')\n",
    "#zip_state = pd.read_csv(\"Cazip.csv\")\n",
    "#unit_zip['UnitID'] = unit_zip.UnitID.astype('str')"
   ]
  },
  {
   "cell_type": "code",
   "execution_count": 4,
   "metadata": {
    "collapsed": false
   },
   "outputs": [
    {
     "name": "stderr",
     "output_type": "stream",
     "text": [
      "E:\\Work\\Python\\Anaconda\\done\\lib\\site-packages\\IPython\\core\\interactiveshell.py:2717: DtypeWarning: Columns (3) have mixed types. Specify dtype option on import or set low_memory=False.\n",
      "  interactivity=interactivity, compiler=compiler, result=result)\n"
     ]
    }
   ],
   "source": [
    "#tls =tools('Juice_net_clean_Data_CA.csv') \n",
    "#fff = pd.read_csv(\"Juice_net_clean_Data_CA.csv\" , date_parser = tls.make_serie_as_datetimein_PST_time, parse_dates = ['Time'] )\n",
    "#fff = pd.read_csv(\"Juice_net_clean_Data_USA.csv\" , date_parser = tls.make_serie_as_datetimein_PST_time, parse_dates = ['Time'] )\n",
    "#df = pd.read_csv(\"dfl.csv\" )\n"
   ]
  },
  {
   "cell_type": "code",
   "execution_count": null,
   "metadata": {
    "collapsed": false
   },
   "outputs": [],
   "source": []
  },
  {
   "cell_type": "code",
   "execution_count": 4,
   "metadata": {
    "collapsed": false
   },
   "outputs": [],
   "source": [
    "#ff = Cleaningdata.data_cleaning(gugu, unit_zip, zip_state, df)\n",
    "#fff  = cft.get_rows_for_resource_based_on_patern(cft, ff.head(n=1000), 'event_bolen',0)\n",
    "#fff.to_csv('Juice_net_clean_Data_USA.csv')\n",
    "\n",
    "\n",
    "#ff = Cleaningdata.data_cleaning(gugu, unit_zip, zip_state, df)\n",
    "#fff_ca = Cleaningdata.CA_Unit_id(gugu, unit_zip, zip_state, df)\n",
    "\n",
    "\n",
    "#fff.to_csv(\"Juice_net_clean_Data_CA.csv\")\n",
    "\n",
    "#tls =tools('Juice_net_clean_Data_CA.csv') \n",
    "fff_ca = pd.read_csv(\"Juice_net_clean_Data_CA.csv\" , date_parser = tls.make_serie_as_datetimein_PST_time, parse_dates = ['Time'] )\n",
    "\n",
    "\n",
    "#result = smart_data_cleaning.more_data_removal(sdc, fff)\n",
    "#result['Month'] = result.Time.dt.month\n",
    "\n",
    "\n",
    "#snum_monht_list = result.loc[result.Month.isin([3,4,5]),'snum'].copy()\n",
    "#snum_monht_list = snum_monht_list.tolist()\n",
    "#xx = result.loc[result.snum.isin(snum_monht_list),:].copy()\n",
    "\n"
   ]
  },
  {
   "cell_type": "code",
   "execution_count": 5,
   "metadata": {
    "collapsed": false
   },
   "outputs": [],
   "source": [
    "#fff_ca=fff"
   ]
  },
  {
   "cell_type": "code",
   "execution_count": 6,
   "metadata": {
    "collapsed": false
   },
   "outputs": [
    {
     "data": {
      "text/html": [
       "<div>\n",
       "<table border=\"1\" class=\"dataframe\">\n",
       "  <thead>\n",
       "    <tr style=\"text-align: right;\">\n",
       "      <th></th>\n",
       "      <th>index</th>\n",
       "      <th>RowKey</th>\n",
       "      <th>Timestamp</th>\n",
       "      <th>UnitID</th>\n",
       "      <th>EventString</th>\n",
       "      <th>EventDuration</th>\n",
       "      <th>EventEnergy</th>\n",
       "      <th>ChargingTime</th>\n",
       "      <th>TotalEnergy</th>\n",
       "      <th>Duration</th>\n",
       "      <th>Time</th>\n",
       "      <th>dt_ts</th>\n",
       "      <th>event_bolen</th>\n",
       "      <th>snum</th>\n",
       "      <th>WeekDay</th>\n",
       "      <th>state</th>\n",
       "    </tr>\n",
       "  </thead>\n",
       "  <tbody>\n",
       "    <tr>\n",
       "      <th>0</th>\n",
       "      <td>4</td>\n",
       "      <td>17-03-03 14:47:15 9038472 0150F9FD</td>\n",
       "      <td>2017-03-03T22:47:15.910Z</td>\n",
       "      <td>0100000100000046495017126501</td>\n",
       "      <td>PlugIn</td>\n",
       "      <td>0.0</td>\n",
       "      <td>0.0</td>\n",
       "      <td>0.0</td>\n",
       "      <td>0.0</td>\n",
       "      <td>NaN</td>\n",
       "      <td>2017-03-03 14:47:15.910000-08:00</td>\n",
       "      <td>1.488581e+09</td>\n",
       "      <td>2</td>\n",
       "      <td>1</td>\n",
       "      <td>4</td>\n",
       "      <td>CA</td>\n",
       "    </tr>\n",
       "    <tr>\n",
       "      <th>1</th>\n",
       "      <td>5</td>\n",
       "      <td>17-03-03 14:47:19 8412462 0150FBE2</td>\n",
       "      <td>2017-03-03T22:47:19.830Z</td>\n",
       "      <td>0100000100000046495017126501</td>\n",
       "      <td>ChargingStart</td>\n",
       "      <td>0.0</td>\n",
       "      <td>0.0</td>\n",
       "      <td>0.0</td>\n",
       "      <td>0.0</td>\n",
       "      <td>NaN</td>\n",
       "      <td>2017-03-03 14:47:19.830000-08:00</td>\n",
       "      <td>1.488581e+09</td>\n",
       "      <td>3</td>\n",
       "      <td>1</td>\n",
       "      <td>4</td>\n",
       "      <td>CA</td>\n",
       "    </tr>\n",
       "  </tbody>\n",
       "</table>\n",
       "</div>"
      ],
      "text/plain": [
       "   index                              RowKey                 Timestamp  \\\n",
       "0      4  17-03-03 14:47:15 9038472 0150F9FD  2017-03-03T22:47:15.910Z   \n",
       "1      5  17-03-03 14:47:19 8412462 0150FBE2  2017-03-03T22:47:19.830Z   \n",
       "\n",
       "                         UnitID    EventString  EventDuration  EventEnergy  \\\n",
       "0  0100000100000046495017126501         PlugIn            0.0          0.0   \n",
       "1  0100000100000046495017126501  ChargingStart            0.0          0.0   \n",
       "\n",
       "   ChargingTime  TotalEnergy  Duration                             Time  \\\n",
       "0           0.0          0.0       NaN 2017-03-03 14:47:15.910000-08:00   \n",
       "1           0.0          0.0       NaN 2017-03-03 14:47:19.830000-08:00   \n",
       "\n",
       "          dt_ts  event_bolen  snum  WeekDay state  \n",
       "0  1.488581e+09            2     1        4    CA  \n",
       "1  1.488581e+09            3     1        4    CA  "
      ]
     },
     "execution_count": 6,
     "metadata": {},
     "output_type": "execute_result"
    }
   ],
   "source": [
    "fff_ca.head(n=2)"
   ]
  },
  {
   "cell_type": "code",
   "execution_count": 5,
   "metadata": {
    "collapsed": false
   },
   "outputs": [
    {
     "data": {
      "text/plain": [
       "(918570, 16)"
      ]
     },
     "execution_count": 5,
     "metadata": {},
     "output_type": "execute_result"
    }
   ],
   "source": [
    "fff_ca.shape"
   ]
  },
  {
   "cell_type": "code",
   "execution_count": 7,
   "metadata": {
    "collapsed": true
   },
   "outputs": [
    {
     "name": "stdout",
     "output_type": "stream",
     "text": [
      "\n",
      "Original Memory usage:\n",
      " Index                  80\n",
      "index             7348560\n",
      "RowKey           83589870\n",
      "Timestamp        74404170\n",
      "UnitID           77858996\n",
      "EventString      61553595\n",
      "EventDuration     7348560\n",
      "EventEnergy       7348560\n",
      "ChargingTime      7348560\n",
      "TotalEnergy       7348560\n",
      "Duration          7348560\n",
      "Time              7348560\n",
      "dt_ts             7348560\n",
      "event_bolen       7348560\n",
      "snum              7348560\n",
      "WeekDay           7348560\n",
      "state            54195630\n",
      "dtype: int64\n",
      "\n",
      "Memory usage after categorising all string columns:\n",
      " Index                  80\n",
      "index             7348560\n",
      "RowKey           83589870\n",
      "Timestamp        74404170\n",
      "UnitID            2016504\n",
      "EventString      61553595\n",
      "EventDuration     7348560\n",
      "EventEnergy       7348560\n",
      "ChargingTime      7348560\n",
      "TotalEnergy       7348560\n",
      "Duration          7348560\n",
      "Time              7348560\n",
      "dt_ts             7348560\n",
      "event_bolen       7348560\n",
      "snum              7348560\n",
      "WeekDay           7348560\n",
      "state            54195630\n",
      "dtype: int64\n",
      "\n",
      "Original Memory usage:\n",
      " Index                  80\n",
      "index             7348560\n",
      "RowKey           83589870\n",
      "Timestamp        74404170\n",
      "UnitID            2016504\n",
      "EventString      61553595\n",
      "EventDuration     7348560\n",
      "EventEnergy       7348560\n",
      "ChargingTime      7348560\n",
      "TotalEnergy       7348560\n",
      "Duration          7348560\n",
      "Time              7348560\n",
      "dt_ts             7348560\n",
      "event_bolen       7348560\n",
      "snum              7348560\n",
      "WeekDay           7348560\n",
      "state            54195630\n",
      "dtype: int64\n",
      "\n",
      "Memory usage after categorising all string columns:\n",
      " Index                  80\n",
      "index             7348560\n",
      "RowKey           83589870\n",
      "Timestamp        74404170\n",
      "UnitID            2016504\n",
      "EventString        918836\n",
      "EventDuration     7348560\n",
      "EventEnergy       7348560\n",
      "ChargingTime      7348560\n",
      "TotalEnergy       7348560\n",
      "Duration          7348560\n",
      "Time              7348560\n",
      "dt_ts             7348560\n",
      "event_bolen       7348560\n",
      "snum              7348560\n",
      "WeekDay           7348560\n",
      "state            54195630\n",
      "dtype: int64\n"
     ]
    }
   ],
   "source": [
    "ff= tls.make_df_faster(fff_ca,'UnitID')\n",
    "fff_ca= tls.make_df_faster(ff,'EventString')\n",
    "fff_c = fff_ca"
   ]
  },
  {
   "cell_type": "code",
   "execution_count": 8,
   "metadata": {
    "collapsed": false
   },
   "outputs": [
    {
     "data": {
      "text/plain": [
       "(918570, 16)"
      ]
     },
     "execution_count": 8,
     "metadata": {},
     "output_type": "execute_result"
    }
   ],
   "source": [
    "fff_c.shape"
   ]
  },
  {
   "cell_type": "code",
   "execution_count": 9,
   "metadata": {
    "collapsed": false
   },
   "outputs": [
    {
     "data": {
      "text/html": [
       "<div>\n",
       "<table border=\"1\" class=\"dataframe\">\n",
       "  <thead>\n",
       "    <tr style=\"text-align: right;\">\n",
       "      <th></th>\n",
       "      <th>index</th>\n",
       "      <th>RowKey</th>\n",
       "      <th>Timestamp</th>\n",
       "      <th>UnitID</th>\n",
       "      <th>EventString</th>\n",
       "      <th>EventDuration</th>\n",
       "      <th>EventEnergy</th>\n",
       "      <th>ChargingTime</th>\n",
       "      <th>TotalEnergy</th>\n",
       "      <th>Duration</th>\n",
       "      <th>Time</th>\n",
       "      <th>dt_ts</th>\n",
       "      <th>event_bolen</th>\n",
       "      <th>snum</th>\n",
       "      <th>WeekDay</th>\n",
       "      <th>state</th>\n",
       "    </tr>\n",
       "  </thead>\n",
       "  <tbody>\n",
       "    <tr>\n",
       "      <th>0</th>\n",
       "      <td>4</td>\n",
       "      <td>17-03-03 14:47:15 9038472 0150F9FD</td>\n",
       "      <td>2017-03-03T22:47:15.910Z</td>\n",
       "      <td>0100000100000046495017126501</td>\n",
       "      <td>PlugIn</td>\n",
       "      <td>0.0</td>\n",
       "      <td>0.0</td>\n",
       "      <td>0.0</td>\n",
       "      <td>0.0</td>\n",
       "      <td>NaN</td>\n",
       "      <td>2017-03-03 14:47:15.910000-08:00</td>\n",
       "      <td>1.488581e+09</td>\n",
       "      <td>2</td>\n",
       "      <td>1</td>\n",
       "      <td>4</td>\n",
       "      <td>CA</td>\n",
       "    </tr>\n",
       "    <tr>\n",
       "      <th>1</th>\n",
       "      <td>5</td>\n",
       "      <td>17-03-03 14:47:19 8412462 0150FBE2</td>\n",
       "      <td>2017-03-03T22:47:19.830Z</td>\n",
       "      <td>0100000100000046495017126501</td>\n",
       "      <td>ChargingStart</td>\n",
       "      <td>0.0</td>\n",
       "      <td>0.0</td>\n",
       "      <td>0.0</td>\n",
       "      <td>0.0</td>\n",
       "      <td>NaN</td>\n",
       "      <td>2017-03-03 14:47:19.830000-08:00</td>\n",
       "      <td>1.488581e+09</td>\n",
       "      <td>3</td>\n",
       "      <td>1</td>\n",
       "      <td>4</td>\n",
       "      <td>CA</td>\n",
       "    </tr>\n",
       "  </tbody>\n",
       "</table>\n",
       "</div>"
      ],
      "text/plain": [
       "   index                              RowKey                 Timestamp  \\\n",
       "0      4  17-03-03 14:47:15 9038472 0150F9FD  2017-03-03T22:47:15.910Z   \n",
       "1      5  17-03-03 14:47:19 8412462 0150FBE2  2017-03-03T22:47:19.830Z   \n",
       "\n",
       "                         UnitID    EventString  EventDuration  EventEnergy  \\\n",
       "0  0100000100000046495017126501         PlugIn            0.0          0.0   \n",
       "1  0100000100000046495017126501  ChargingStart            0.0          0.0   \n",
       "\n",
       "   ChargingTime  TotalEnergy  Duration                             Time  \\\n",
       "0           0.0          0.0       NaN 2017-03-03 14:47:15.910000-08:00   \n",
       "1           0.0          0.0       NaN 2017-03-03 14:47:19.830000-08:00   \n",
       "\n",
       "          dt_ts  event_bolen  snum  WeekDay state  \n",
       "0  1.488581e+09            2     1        4    CA  \n",
       "1  1.488581e+09            3     1        4    CA  "
      ]
     },
     "execution_count": 9,
     "metadata": {},
     "output_type": "execute_result"
    }
   ],
   "source": [
    "fff_c.head(n=2)"
   ]
  },
  {
   "cell_type": "code",
   "execution_count": 10,
   "metadata": {
    "collapsed": false
   },
   "outputs": [
    {
     "data": {
      "text/plain": [
       "datetime64[ns, US/Pacific-New]"
      ]
     },
     "execution_count": 10,
     "metadata": {},
     "output_type": "execute_result"
    }
   ],
   "source": [
    "fff_c.Time.dtypes"
   ]
  },
  {
   "cell_type": "code",
   "execution_count": 11,
   "metadata": {
    "collapsed": false
   },
   "outputs": [],
   "source": [
    "tt = tls.my_read_csv(tls.filename)\n",
    "start  = pd.Timestamp(\"2017-03-01 00:00:00.000000-08:00\", tz = 'US/Pacific-New')\n",
    "start = pd.to_datetime(start)\n",
    "end  = pd.Timestamp(\"2017-03-11 00:00:00.000000-08:00\", tz = 'US/Pacific-New')\n",
    "end = pd.to_datetime(end)\n",
    "xx = tt\n",
    "xx = xx.loc[(xx['index'] < end) &(xx['index'] > start) ,:]\n",
    "xx.set_index('index', inplace=True,drop=False)\n",
    "\n",
    "xx = xx.loc[:,['index','Power']]\n",
    "xx = xx.resample('5t').sum()\n",
    "xx= xx.reset_index()\n",
    "xx['weekday'] = xx['index'].dt.weekday\n",
    "\n",
    "xx.set_index('index', inplace=True,drop=True)\n",
    "#tt = pd.get_dummies(xx, columns = ['weekday'], drop_first = True)\n",
    "tt  =xx.loc[:,[\"Power\"]]\n",
    "tt.loc[tt.Power==np.inf,:] = 345"
   ]
  },
  {
   "cell_type": "code",
   "execution_count": null,
   "metadata": {
    "collapsed": false
   },
   "outputs": [],
   "source": [
    "train, test = X[0:size], X[size:len(X)]"
   ]
  },
  {
   "cell_type": "code",
   "execution_count": 15,
   "metadata": {
    "collapsed": true
   },
   "outputs": [
    {
     "name": "stdout",
     "output_type": "stream",
     "text": [
      "Test MSE: 6158.382\n"
     ]
    },
    {
     "data": {
      "image/png": "[encoded data removed]",
      "text/plain": [
       "<matplotlib.figure.Figure at 0x1084ad68>"
      ]
     },
     "metadata": {},
     "output_type": "display_data"
    }
   ],
   "source": [
    "from pandas import read_csv\n",
    "from pandas import datetime\n",
    "from matplotlib import pyplot\n",
    "from statsmodels.tsa.arima_model import ARIMA\n",
    "from sklearn.metrics import mean_squared_error\n",
    " \n",
    "def parser(x):\n",
    "\treturn datetime.strptime('190'+x, '%Y-%m')\n",
    " \n",
    "series = tt#read_csv('shampoo-sales.csv', header=0, parse_dates=[0], index_col=0, squeeze=True, date_parser=parser)\n",
    "X = series.values\n",
    "size = int(len(X) * 0.66)\n",
    "train, test = X[0:size], X[size:len(X)]\n",
    "history = [x for x in train]\n",
    "predictions = list()\n",
    "for t in range(len(test)):\n",
    "    model = ARIMA(history, order=(5,1,0))\n",
    "    model_fit = model.fit(disp=0)\n",
    "    output = model_fit.forecast()\n",
    "    yhat = output[0]\n",
    "    predictions.append(yhat)\n",
    "    obs = test[t]\n",
    "    history.append(obs)\n",
    "    #print('predicted=%f, expected=%f' % (yhat, obs))\n",
    "error = mean_squared_error(test, predictions)\n",
    "print('Test MSE: %.3f' % error)\n",
    "# plot\n",
    "pyplot.plot(test)\n",
    "pyplot.plot(predictions, color='red')\n",
    "pyplot.show()"
   ]
  },
  {
   "cell_type": "code",
   "execution_count": 16,
   "metadata": {
    "collapsed": false
   },
   "outputs": [
    {
     "data": {
      "text/plain": [
       "[<matplotlib.lines.Line2D at 0x21214cc0>]"
      ]
     },
     "execution_count": 16,
     "metadata": {},
     "output_type": "execute_result"
    },
    {
     "data": {
      "image/png": "[encoded data removed]",
      "text/plain": [
       "<matplotlib.figure.Figure at 0x115e5278>"
      ]
     },
     "metadata": {},
     "output_type": "display_data"
    }
   ],
   "source": [
    "pyplot.plot(train)"
   ]
  },
  {
   "cell_type": "code",
   "execution_count": 7,
   "metadata": {
    "collapsed": false,
    "scrolled": true
   },
   "outputs": [
    {
     "data": {
      "text/plain": [
       "[<matplotlib.lines.Line2D at 0x14343208>]"
      ]
     },
     "execution_count": 7,
     "metadata": {},
     "output_type": "execute_result"
    },
    {
     "data": {
      "image/png": "[encoded data removed]",
      "text/plain": [
       "<matplotlib.figure.Figure at 0x15a606a0>"
      ]
     },
     "metadata": {},
     "output_type": "display_data"
    }
   ],
   "source": [
    "pyplot.plot(tt)"
   ]
  },
  {
   "cell_type": "code",
   "execution_count": 18,
   "metadata": {
    "collapsed": false
   },
   "outputs": [
    {
     "data": {
      "text/plain": [
       "(array([ 138.70415137]),\n",
       " array([ 79.33035362]),\n",
       " array([[ -16.78048461,  294.18878735]]))"
      ]
     },
     "execution_count": 18,
     "metadata": {},
     "output_type": "execute_result"
    }
   ],
   "source": [
    "model = ARIMA(history, order=(1,1,0))\n",
    "model_fit.forecast()"
   ]
  },
  {
   "cell_type": "code",
   "execution_count": null,
   "metadata": {
    "collapsed": true
   },
   "outputs": [],
   "source": []
  }
 ],
 "metadata": {
  "kernelspec": {
   "display_name": "Python 3",
   "language": "python",
   "name": "python3"
  },
  "language_info": {
   "codemirror_mode": {
    "name": "ipython",
    "version": 3
   },
   "file_extension": ".py",
   "mimetype": "text/x-python",
   "name": "python",
   "nbconvert_exporter": "python",
   "pygments_lexer": "ipython3",
   "version": "3.6.0"
  }
 },
 "nbformat": 4,
 "nbformat_minor": 2
}
